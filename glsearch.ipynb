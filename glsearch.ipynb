{
 "cells": [
  {
   "cell_type": "code",
   "execution_count": 1,
   "metadata": {
    "collapsed": true
   },
   "outputs": [],
   "source": [
    "import subprocess\n",
    "import psutil\n",
    "import sys\n",
    "import resource"
   ]
  },
  {
   "cell_type": "code",
   "execution_count": 2,
   "metadata": {
    "collapsed": true
   },
   "outputs": [],
   "source": [
    "rusage_denom = 1024.\n",
    "if sys.platform == \"darwin\":\n",
    "    rusage_denom = rusage_denom * rusage_denom"
   ]
  },
  {
   "cell_type": "code",
   "execution_count": 3,
   "metadata": {
    "collapsed": true
   },
   "outputs": [],
   "source": [
    "def runglsearch(executable, seq1_file, seq2_file):\n",
    "    '''\n",
    "    use POpen to run process in background, get its pid for checking for memory\n",
    "    poll frequently for memory usage --> can take its average for final result\n",
    "    get final output of process for \"Total scan time:\"\n",
    "    '''\n",
    "    command = executable + ' -z -1 -f 0 -g -1 -r +1/-1 ' + seq1_file + ' ' + seq2_file\n",
    "    args = command.split()\n",
    "    proc = subprocess.Popen(args, stdout=subprocess.PIPE, stderr=subprocess.STDOUT)\n",
    "    proc_pid = proc.pid\n",
    "    mem = []\n",
    "    while proc.poll() == None:\n",
    "        mem.append((resource.getrusage(resource.RUSAGE_CHILDREN).ru_maxrss / rusage_denom))\n",
    "    return (mem, proc.communicate())"
   ]
  },
  {
   "cell_type": "code",
   "execution_count": 5,
   "metadata": {},
   "outputs": [
    {
     "name": "stdout",
     "output_type": "stream",
     "text": [
      "average mem usage (MB): 9.3203125\n",
      "time taken: 0.01\n"
     ]
    }
   ],
   "source": [
    "with open(\"input_sequences.txt\", \"r\") as fp:\n",
    "    seq1 = \"\"\n",
    "    seq2 = \"\"\n",
    "    glsearch_exec = \"/Users/pooja/Desktop/fasta-36.3.8g/bin/glsearch36\"\n",
    "    glsearch_file_seq1 = \"/Users/pooja/Desktop/fasta-36.3.8g/test/input_seq1\"\n",
    "    glsearch_file_seq2 = \"/Users/pooja/Desktop/fasta-36.3.8g/test/input_seq2\"\n",
    "    while True:\n",
    "        # expected file format: line1: seq1, line2: seq2, line3: blank, and this continues for as many pairs of\n",
    "        # sequences as need to be aligned\n",
    "        line = fp.readline()\n",
    "        if not line:\n",
    "            break\n",
    "        seq1 = line.strip()\n",
    "        seq2 = fp.readline().strip()\n",
    "        fp.readline()\n",
    "        # create input file 1 for glsearch\n",
    "        with open(glsearch_file_seq1, \"w\") as in1:\n",
    "            in1.write(\">input_seq1\\n\")\n",
    "            in1.write(seq1)\n",
    "        # create input file 2 for glsearch\n",
    "        with open(glsearch_file_seq2, \"w\") as in2:\n",
    "            in2.write(\">input_seq2\\n\")\n",
    "            in2.write(seq2)\n",
    "        mem, output = runglsearch(glsearch_exec, glsearch_file_seq1, glsearch_file_seq2)\n",
    "        time_str = output[0][output[0].find(b'Total Scan time:'):]\n",
    "        avg_mem = sum(mem) / float(len(mem))\n",
    "        print('average mem usage (MB): ' + str(avg_mem))\n",
    "        print('time taken: ' + str(float(time_str.split()[3])))"
   ]
  },
  {
   "cell_type": "markdown",
   "metadata": {
    "collapsed": true
   },
   "source": [
    "References:  \n",
    "- https://psutil.readthedocs.io/en/latest/#psutil.Process.memory_percent\n",
    "- http://www.people.virginia.edu/~wrp/fasta/CURRENT/\n",
    "- http://fa.bianp.net/blog/2013/different-ways-to-get-memory-consumption-or-lessons-learned-from-memory_profiler/\n",
    "- https://docs.python.org/2/library/subprocess.html#subprocess.Popen.returncode\n",
    "- https://docs.python.org/2/library/resource.html#resource.getrusage\n",
    "- https://eli.thegreenplace.net/2017/interacting-with-a-long-running-child-process-in-python/"
   ]
  }
 ],
 "metadata": {
  "kernelspec": {
   "display_name": "Python 3",
   "language": "python",
   "name": "python3"
  },
  "language_info": {
   "codemirror_mode": {
    "name": "ipython",
    "version": 3
   },
   "file_extension": ".py",
   "mimetype": "text/x-python",
   "name": "python",
   "nbconvert_exporter": "python",
   "pygments_lexer": "ipython3",
   "version": "3.6.1"
  }
 },
 "nbformat": 4,
 "nbformat_minor": 2
}
