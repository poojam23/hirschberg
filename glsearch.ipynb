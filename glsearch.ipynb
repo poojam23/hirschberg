{
 "cells": [
  {
   "cell_type": "code",
   "execution_count": 43,
   "metadata": {
    "collapsed": true
   },
   "outputs": [],
   "source": [
    "import subprocess\n",
    "import psutil\n",
    "import sys\n",
    "import resource"
   ]
  },
  {
   "cell_type": "code",
   "execution_count": 44,
   "metadata": {},
   "outputs": [],
   "source": [
    "rusage_denom = 1024.\n",
    "if sys.platform == \"darwin\":\n",
    "    rusage_denom = rusage_denom * rusage_denom"
   ]
  },
  {
   "cell_type": "code",
   "execution_count": 68,
   "metadata": {},
   "outputs": [],
   "source": [
    "def runglsearch(executable, seq1_file, seq2_file):\n",
    "    '''\n",
    "    use POpen to run process in background, get its pid for checking for memory\n",
    "    poll frequently for memory usage --> can take its average for final result\n",
    "    get final output of process for \"Total scan time:\"\n",
    "    '''\n",
    "    command = executable + ' -z -1 -f 0 -g -1 -r +1/-1 ' + seq1_file + ' ' + seq2_file\n",
    "    args = command.split()\n",
    "    proc = subprocess.Popen(args, stdout=subprocess.PIPE, stderr=subprocess.STDOUT)\n",
    "    proc_pid = proc.pid\n",
    "    mem = []\n",
    "    while proc.poll() == None:\n",
    "        mem.append((resource.getrusage(resource.RUSAGE_CHILDREN).ru_maxrss / rusage_denom))\n",
    "    return (mem, proc.communicate())"
   ]
  },
  {
   "cell_type": "code",
   "execution_count": 72,
   "metadata": {},
   "outputs": [
    {
     "name": "stdout",
     "output_type": "stream",
     "text": [
      "average mem usage: 9.47265625\n",
      "time taken: 0.01\n",
      "b'# /Users/pooja/Desktop/fasta-36.3.8g/bin/glsearch36 -z -1 -f 0 -g -1 -r +1/-1 /Users/pooja/Desktop/fasta-36.3.8g/test/input_seq1 /Users/pooja/Desktop/fasta-36.3.8g/test/input_seq2\\nGLSEARCH performs a global-query/local-library search\\n version 36.3.8g Oct, 2018\\nQuery: /Users/pooja/Desktop/fasta-36.3.8g/test/input_seq1\\n  1>>>input_seq1 - 1090 nt\\nLibrary: /Users/pooja/Desktop/fasta-36.3.8g/test/input_seq2\\n     1521 residues in     1 sequences\\n\\nAlgorithm: Global/Local affine Needleman-Wunsch (SSE2, Michael Farrar 2010) (6.0 April 2007)\\nParameters: DNA matrix (1:-1), open/ext: 0/-1\\n\\nThe best scores are:                                      n-w\\ninput_seq2                                     (1521) [f]  438\\ninput_seq2                                     (1521) [r]    0\\n\\n>>input_seq2                                              (1521 nt)\\n n-w opt: 438\\nglobal/local score: 438; 70.1% identity (70.1% similar) in 1090 nt overlap (1-1090:1-982)\\n\\n               10        20        30        40        50        60\\ninput_ CTCTGCAACCCTCTGCAACCCTCTGCAACCCTCTGCAACCCTCTGCAACCCTCTGCAACC\\n       : ::::: ::  ::::: ::  ::::: ::  ::::: ::  ::::: ::  ::::: ::\\ninput_ CACTGCAGCCA-CTGCAGCCA-CTGCAGCCA-CTGCAGCCA-CTGCAGCCA-CTGCAGCC\\n               10         20          30         40         50     \\n\\n               70        80        90       100       110       120\\ninput_ CTCTGCAACCCTCTGCAACCCTCTGCAACCCTCTGCAACCCTCTGCAACCCTCTGCAACC\\n         ::::: ::  ::::: ::  ::::: ::  ::::: ::  ::::: ::  ::::: ::\\ninput_ A-CTGCAGCCA-CTGCAGCCA-CTGCAGCCA-CTGCAGCCA-CTGCAGCCA-CTGCAGCC\\n           60         70         80         90        100          \\n\\n              130       140       150       160       170       180\\ninput_ CTCTGCAACCCTCTGCAACCCTCTGCAACCCTCTGCAACCCTCTGCAACCCTCTGCAACC\\n         ::::: ::  ::::: ::  ::::: ::  ::::: ::  ::::: ::  ::::: ::\\ninput_ A-CTGCAGCCA-CTGCAGCCA-CTGCAGCCA-CTGCAGCCA-CTGCAGCCA-CTGCAGCC\\n     110         120        130        140        150        160   \\n\\n              190       200       210       220       230       240\\ninput_ CTCTGCAACCCTCTGCAACCCTCTGCAACCCTCTGCAACCCTCTGCAACCCTCTGCAACC\\n         ::::: ::  ::::: ::  ::::: ::  ::::: ::  ::::: ::  ::::: ::\\ninput_ A-CTGCAGCCA-CTGCAGCCA-CTGCAGCCA-CTGCAGCCA-CTGCAGCCA-CTGCAGCC\\n            170        180        190        200         210       \\n\\n              250       260       270       280       290       300\\ninput_ CTCTGCAACCCTCTGCAACCCTCTGCAACCCTCTGCAACCCTCTGCAACCCTCTGCAACC\\n         ::::: ::  ::::: ::  ::::: ::  ::::: ::  ::::: ::  ::::: ::\\ninput_ A-CTGCAGCCA-CTGCAGCCA-CTGCAGCCA-CTGCAGCCA-CTGCAGCCA-CTGCAGCC\\n        220        230        240        250        260        270 \\n\\n              310       320       330       340       350       360\\ninput_ CTCTGCAACCCTCTGCAACCCTCTGCAACCCTCTGCAACCCTCTGCAACCCTCTGCAACC\\n         ::::: ::  ::::: ::  ::::: ::  ::::: ::  ::::: ::  ::::: ::\\ninput_ A-CTGCAGCCA-CTGCAGCCA-CTGCAGCCA-CTGCAGCCA-CTGCAGCCA-CTGCAGCC\\n              280        290         300        310        320     \\n\\n              370       380       390       400       410       420\\ninput_ CTCTGCAACCCTCTGCAACCCTCTGCAACCCTCTGCAACCCTCTGCAACCCTCTGCAACC\\n         ::::: ::  ::::: ::  ::::: ::  ::::: ::  ::::: ::  ::::: ::\\ninput_ A-CTGCAGCCA-CTGCAGCCA-CTGCAGCCA-CTGCAGCCA-CTGCAGCCA-CTGCAGCC\\n          330        340        350        360        370          \\n\\n              430       440       450       460       470       480\\ninput_ CTCTGCAACCCTCTGCAACCCTCTGCAACCCTCTGCAACCCTCTGCAACCCTCTGCAACC\\n         ::::: ::  ::::: ::  ::::: ::  ::::: ::  ::::: ::  ::::: ::\\ninput_ A-CTGCAGCCA-CTGCAGCCA-CTGCAGCCA-CTGCAGCCA-CTGCAGCCA-CTGCAGCC\\n     380         390        400        410        420        430   \\n\\n              490       500       510       520       530       540\\ninput_ CTCTGCAACCCTCTGCAACCCTCTGCAACCCTCTGCAACCCTCTGCAACCCTCTGCAACC\\n         ::::: ::  ::::: ::  ::::: ::  ::::: ::  ::::: ::  ::::: ::\\ninput_ A-CTGCAGCCA-CTGCAGCCA-CTGCAGCCA-CTGCAGCCA-CTGCAGCCA-CTGCAGCC\\n            440        450        460        470         480       \\n\\n              550       560       570       580       590       600\\ninput_ CTCTGCAACCCTCTGCAACCCTCTGCAACCCTCTGCAACCCTCTGCAACCCTCTGCAACC\\n         ::::: ::  ::::: ::  ::::: ::  ::::: ::  ::::: ::  ::::: ::\\ninput_ A-CTGCAGCCA-CTGCAGCCA-CTGCAGCCA-CTGCAGCCA-CTGCAGCCA-CTGCAGCC\\n        490        500        510        520        530        540 \\n\\n              610       620       630       640       650       660\\ninput_ CTCTGCAACCCTCTGCAACCCTCTGCAACCCTCTGCAACCCTCTGCAACCCTCTGCAACC\\n         ::::: ::  ::::: ::  ::::: ::  ::::: ::  ::::: ::  ::::: ::\\ninput_ A-CTGCAGCCA-CTGCAGCCA-CTGCAGCCA-CTGCAGCCA-CTGCAGCCA-CTGCAGCC\\n              550        560         570        580        590     \\n\\n              670       680       690       700       710       720\\ninput_ CTCTGCAACCCTCTGCAACCCTCTGCAACCCTCTGCAACCCTCTGCAACCCTCTGCAACC\\n         ::::: ::  ::::: ::  ::::: ::  ::::: ::  ::::: ::  ::::: ::\\ninput_ A-CTGCAGCCA-CTGCAGCCA-CTGCAGCCA-CTGCAGCCA-CTGCAGCCA-CTGCAGCC\\n          600        610        620        630        640          \\n\\n              730       740       750       760       770       780\\ninput_ CTCTGCAACCCTCTGCAACCCTCTGCAACCCTCTGCAACCCTCTGCAACCCTCTGCAACC\\n         ::::: ::  ::::: ::  ::::: ::  ::::: ::  ::::: ::  ::::: ::\\ninput_ A-CTGCAGCCA-CTGCAGCCA-CTGCAGCCA-CTGCAGCCA-CTGCAGCCA-CTGCAGCC\\n     650         660        670        680        690        700   \\n\\n              790       800       810       820       830       840\\ninput_ CTCTGCAACCCTCTGCAACCCTCTGCAACCCTCTGCAACCCTCTGCAACCCTCTGCAACC\\n         ::::: ::  ::::: ::  ::::: ::  ::::: ::  ::::: ::  ::::: ::\\ninput_ A-CTGCAGCCA-CTGCAGCCA-CTGCAGCCA-CTGCAGCCA-CTGCAGCCA-CTGCAGCC\\n            710        720        730        740         750       \\n\\n              850       860       870       880       890       900\\ninput_ CTCTGCAACCCTCTGCAACCCTCTGCAACCCTCTGCAACCCTCTGCAACCCTCTGCAACC\\n         ::::: ::  ::::: ::  ::::: ::  ::::: ::  ::::: ::  ::::: ::\\ninput_ A-CTGCAGCCA-CTGCAGCCA-CTGCAGCCA-CTGCAGCCA-CTGCAGCCA-CTGCAGCC\\n        760        770        780        790        800        810 \\n\\n              910       920       930       940       950       960\\ninput_ CTCTGCAACCCTCTGCAACCCTCTGCAACCCTCTGCAACCCTCTGCAACCCTCTGCAACC\\n         ::::: ::  ::::: ::  ::::: ::  ::::: ::  ::::: ::  ::::: ::\\ninput_ A-CTGCAGCCA-CTGCAGCCA-CTGCAGCCA-CTGCAGCCA-CTGCAGCCA-CTGCAGCC\\n              820        830         840        850        860     \\n\\n              970       980       990      1000      1010      1020\\ninput_ CTCTGCAACCCTCTGCAACCCTCTGCAACCCTCTGCAACCCTCTGCAACCCTCTGCAACC\\n         ::::: ::  ::::: ::  ::::: ::  ::::: ::  ::::: ::  ::::: ::\\ninput_ A-CTGCAGCCA-CTGCAGCCA-CTGCAGCCA-CTGCAGCCA-CTGCAGCCA-CTGCAGCC\\n          870        880        890        900        910          \\n\\n             1030      1040      1050      1060      1070      1080\\ninput_ CTCTGCAACCCTCTGCAACCCTCTGCAACCCTCTGCAACCCTCTGCAACCCTCTGCAACC\\n         ::::: ::  ::::: ::  ::::: ::  ::::: ::  ::::: ::  ::::: ::\\ninput_ A-CTGCAGCCA-CTGCAGCCA-CTGCAGCCA-CTGCAGCCA-CTGCAGCCA-CTGCAGCC\\n     920         930        940        950        960        970   \\n\\n             1090                                                  \\ninput_ CTCTGCAACC                                                  \\n         ::::: ::                                                  \\ninput_ A-CTGCAGCCACTGCAGCCACTGCAGCCACTGCAGCCACTGCAGCCACTGCAGCCACTGC\\n            980       990      1000      1010      1020      1030  \\n\\n>>input_seq2                                              (1521 nt)\\nrev-comp n-w opt:   0\\nglobal/local score: 0; 50.0% identity (50.0% similar) in 1216 nt overlap (1090-1:4-980)\\n\\n       1090      1080      1070        1060      1050      1040    \\ninput-    GGTTGCAGAGGGTTGCAGAGGGTTGCAG--AGGGTTGCAGAGGGTTGCAGAGGGTTG\\n            : ::::     :::::     :::::  :   : ::::     :::::     ::\\ninput_ CAC--T-GCAGCCA-CTGCAGCC-ACTGCAGCCA--CT-GCAGCCA-CTGCAGCC-ACTG\\n                  10          20          30          40         50\\n\\n           1030      1020        1010        1000         990      \\ninput- CAG--AGGGTTGCAGAGGGTTGCAG--AGGGTTGCAG--AGGGTTGCAG--AGGGTTGCA\\n       :::  :   : ::::     :::::  :   : ::::  :   : ::::  :    ::::\\ninput_ CAGCCA--CT-GCAGCCA-CTGCAGCCAC--T-GCAGCCA--CT-GCAGCCA---CTGCA\\n                  60         70           80           90          \\n\\n          980         970       960         950         940        \\ninput- G--AGGGTTGCAG--AGGGTTGCAGAGGGTTGCAG--AGGGTTGCAG--AGGGTTGCAGA\\n       :  :   : ::::  :   : ::::     :::::  :   : ::::  :   : :::: \\ninput_ GCCAC--T-GCAGCCA--CT-GCAGCC-ACTGCAGCCAC--T-GCAGCCAC--T-GCAGC\\n       100          110           120         130           140    \\n\\n      930         920       910       900         890       880    \\ninput- GGGTTGCAG--AGGGTTGCAGAGGGTTGCAGAGGGTTGCAG--AGGGTTGCAGAGGGTTG\\n           :::::  :   : ::::     :::::     :::::  :   : ::::     ::\\ninput_ C-ACTGCAGCCAC--T-GCAGCCA-CTGCAGCC-ACTGCAGCCA--CT-GCAGCCA-CTG\\n           150          160        170        180          190     \\n\\n          870         860       850         840         830        \\ninput- CAGAGGGTTGCAG--AGGGTTGCAGAGGGTTGCAG--AGGGTTGCAG--AGGGTTGCAG-\\n       :::     :::::  :   : ::::     :::::  :   : ::::  :   : :::: \\ninput_ CAGCC-ACTGCAGCCA--CT-GCAGCCA-CTGCAGCCAC--T-GCAGCCA--CT-GCAGC\\n           200         210         220          230          240   \\n\\n        820         810         800       790         780          \\ninput- -AGGGTTGCAG--AGGGTTGCAG--AGGGTTGCAGAGGGTTGCAG--AGGGTTGCAG--A\\n        :    :::::  :   : ::::  :   : ::::     :::::  :   : ::::  :\\ninput_ CA---CTGCAGCCAC--T-GCAGCCA--CT-GCAGCC-ACTGCAGCCAC--T-GCAGCCA\\n              250          260          270        280          290\\n\\n      770       760         750       740       730         720    \\ninput- GGGTTGCAGAGGGTTGCAG--AGGGTTGCAGAGGGTTGCAGAGGGTTGCAG--AGGGTTG\\n          : ::::     :::::  :   : ::::     :::::     :::::  :   : :\\ninput_ C--T-GCAGCC-ACTGCAGCCAC--T-GCAGCCA-CTGCAGCC-ACTGCAGCCA--CT-G\\n                  300         310         320        330           \\n\\n          710       700         690       680         670          \\ninput- CAGAGGGTTGCAGAGGGTTGCAG--AGGGTTGCAGAGGGTTGCAG--AGGGTTGCAG--A\\n       :::     :::::     :::::  :   : ::::     :::::  :   : ::::  :\\ninput_ CAGCCA-CTGCAGCC-ACTGCAGCCA--CT-GCAGCCA-CTGCAGCCAC--T-GCAGCCA\\n      340        350        360          370        380            \\n\\n      660         650         640         630       620            \\ninput- GGGTTGCAG--AGGGTTGCAG--AGGGTTGCAG--AGGGTTGCAGAGGGTTGCAG--AGG\\n          : ::::  :    :::::  :   : ::::  :   : ::::     :::::  :  \\ninput_ --CT-GCAGCCA---CTGCAGCCAC--T-GCAGCCA--CT-GCAGCC-ACTGCAGCCAC-\\n       390           400          410          420        430      \\n\\n    610         600       590         580       570       560      \\ninput- GTTGCAG--AGGGTTGCAGAGGGTTGCAG--AGGGTTGCAGAGGGTTGCAGAGGGTTGCA\\n        : ::::  :   : ::::     :::::  :   : ::::     :::::     ::::\\ninput_ -T-GCAGCCAC--T-GCAGCC-ACTGCAGCCAC--T-GCAGCCA-CTGCAGCC-ACTGCA\\n           440          450        460          470         480    \\n\\n          550         540         530         520         510      \\ninput- G--AGGGTTGCAG--AGGGTTGCAG--AGGGTTGCAG--AGGGTTGCAG--AGGGTTGCA\\n       :  :   : ::::  :   : ::::  :    :::::  :   : ::::  :   : :::\\ninput_ GCCAC--T-GCAGCCA--CT-GCAGCCA---CTGCAGCCAC--T-GCAGCCA--CT-GCA\\n            490           500          510          520            \\n\\n        500         490         480       470         460          \\ninput- GAGGGTTGCAG--AGGGTTGCAG--AGGGTTGCAGAGGGTTGCAG--AGGGTTGCAGAGG\\n       :     :::::  :   : ::::  :   : ::::     :::::  :   : ::::   \\ninput_ GCC-ACTGCAGCCAC--T-GCAGCCAC--T-GCAGCC-ACTGCAGCCAC--T-GCAGCCA\\n     530        540          550           560       570           \\n\\n    450       440         430       420       410         400      \\ninput- GTTGCAGAGGGTTGCAG--AGGGTTGCAGAGGGTTGCAGAGGGTTGCAG--AGGGTTGCA\\n         :::::     :::::  :   : ::::     :::::     :::::  :   : :::\\ninput_ -CTGCAGCC-ACTGCAGCCA--CT-GCAGCCA-CTGCAGCC-ACTGCAGCCA--CT-GCA\\n       580        590          600        610        620           \\n\\n        390         380         370         360         350        \\ninput- GAGGGTTGCAG--AGGGTTGCAG--AGGGTTGCAG--AGGGTTGCAG--AGGGTTGCAG-\\n       :     :::::  :   : ::::  :   : ::::  :    :::::  :   : :::: \\ninput_ GCCA-CTGCAGCCAC--T-GCAGCCA--CT-GCAGCCA---CTGCAGCCAC--T-GCAGC\\n      630        640          650             660         670      \\n\\n        340       330         320         310       300            \\ninput- -AGGGTTGCAGAGGGTTGCAG--AGGGTTGCAG--AGGGTTGCAGAGGGTTGCAG--AGG\\n        :   : ::::     :::::  :   : ::::  :   : ::::     :::::  :  \\ninput_ CA--CT-GCAGCC-ACTGCAGCCAC--T-GCAGCCAC--T-GCAGCC-ACTGCAGCCAC-\\n            680        690          700          710        720    \\n\\n    290       280       270         260       250       240        \\ninput- GTTGCAGAGGGTTGCAGAGGGTTGCAG--AGGGTTGCAGAGGGTTGCAGAGGGTTGCAG-\\n        : ::::     :::::     :::::  :   : ::::     :::::     ::::: \\ninput_ -T-GCAGCCA-CTGCAGCC-ACTGCAGCCA--CT-GCAGCCA-CTGCAGCC-ACTGCAGC\\n             730         740         750         760        770    \\n\\n        230       220         210         200         190          \\ninput- -AGGGTTGCAGAGGGTTGCAG--AGGGTTGCAG--AGGGTTGCAG--AGGGTTGCAG--A\\n        :   : ::::     :::::  :   : ::::  :   : ::::  :    :::::  :\\ninput_ CA--CT-GCAGCCA-CTGCAGCCAC--T-GCAGCCA--CT-GCAGCCA---CTGCAGCCA\\n             780        790          800          810          820 \\n\\n      180         170       160         150         140       130  \\ninput- GGGTTGCAG--AGGGTTGCAGAGGGTTGCAG--AGGGTTGCAG--AGGGTTGCAGAGGGT\\n          : ::::  :   : ::::     :::::  :   : ::::  :   : ::::     \\ninput_ C--T-GCAGCCA--CT-GCAGCC-ACTGCAGCCAC--T-GCAGCCAC--T-GCAGCC-AC\\n                830           840         850           860        \\n\\n              120       110       100          90        80        \\ninput- TGCAG--AGGGTTGCAGAGGGTTGCAGAGGGTTGCAG--AGGGTTGCAGAGGGTTGCAGA\\n       :::::  :   : ::::     :::::     :::::  :   : ::::     ::::: \\ninput_ TGCAGCCAC--T-GCAGCCA-CTGCAGCC-ACTGCAGCCA--CT-GCAGCCA-CTGCAGC\\n       870          880        890        900          910         \\n\\n       70          60        50          40          30            \\ninput- GGGTTGCAG--AGGGTTGCAGAGGGTTGCAG--AGGGTTGCAG--AGGGTTGCAG--AGG\\n           :::::  :   : ::::     :::::  :   : ::::  :   : ::::  :  \\ninput_ C-ACTGCAGCCA--CT-GCAGCCA-CTGCAGCCAC--T-GCAGCCA--CT-GCAGCCA--\\n       920         930         940          950          960       \\n\\n     20        10                                                  \\ninput- GTTGCAGAGGGTTGCAGAG                                         \\n         :::::     :::::                                           \\ninput_ -CTGCAGCC-ACTGCAG--CCACTGCAGCCACTGCAGCCACTGCAGCCACTGCAGCCACT\\n          970        980         990      1000      1010      1020 \\n\\n\\n\\n1090 residues in 1 query   sequences\\n1521 residues in 1 library sequences\\n Tcomplib [36.3.8g Oct, 2018] (4 proc in memory [0G])\\n start: Sun Dec 16 00:41:30 2018 done: Sun Dec 16 00:41:30 2018\\n Total Scan time:  0.010 Total Display time:  0.050\\n\\nFunction used was GLSEARCH [36.3.8g Oct, 2018]\\n'\n"
     ]
    }
   ],
   "source": [
    "with open(\"input_sequences.txt\", \"r\") as fp:\n",
    "    seq1 = \"\"\n",
    "    seq2 = \"\"\n",
    "    glsearch_exec = \"/Users/pooja/Desktop/fasta-36.3.8g/bin/glsearch36\"\n",
    "    glsearch_file_seq1 = \"/Users/pooja/Desktop/fasta-36.3.8g/test/input_seq1\"\n",
    "    glsearch_file_seq2 = \"/Users/pooja/Desktop/fasta-36.3.8g/test/input_seq2\"\n",
    "    while True:\n",
    "        # expected file format: line1: seq1, line2: seq2, line3: blank, and this continues for as many pairs of\n",
    "        # sequences as need to be aligned\n",
    "        line = fp.readline()\n",
    "        if not line:\n",
    "            break\n",
    "        seq1 = line.strip()\n",
    "        seq2 = fp.readline().strip()\n",
    "        fp.readline()\n",
    "        # create input file 1 for glsearch\n",
    "        with open(glsearch_file_seq1, \"w\") as in1:\n",
    "            in1.write(\">input_seq1\\n\")\n",
    "            in1.write(seq1)\n",
    "        # create input file 2 for glsearch\n",
    "        with open(glsearch_file_seq2, \"w\") as in2:\n",
    "            in2.write(\">input_seq2\\n\")\n",
    "            in2.write(seq2)\n",
    "        mem, output = runglsearch(glsearch_exec, glsearch_file_seq1, glsearch_file_seq2)\n",
    "        time_str = output[0][output[0].find(b'Total Scan time:'):]\n",
    "        avg_mem = sum(mem) / float(len(mem))\n",
    "        print('average mem usage: ' + str(avg_mem))\n",
    "        print('time taken: ' + str(float(time_str.split()[3])))\n",
    "        print(output[0])"
   ]
  },
  {
   "cell_type": "code",
   "execution_count": null,
   "metadata": {
    "collapsed": true
   },
   "outputs": [],
   "source": []
  }
 ],
 "metadata": {
  "kernelspec": {
   "display_name": "Python 3",
   "language": "python",
   "name": "python3"
  },
  "language_info": {
   "codemirror_mode": {
    "name": "ipython",
    "version": 3
   },
   "file_extension": ".py",
   "mimetype": "text/x-python",
   "name": "python",
   "nbconvert_exporter": "python",
   "pygments_lexer": "ipython3",
   "version": "3.6.1"
  }
 },
 "nbformat": 4,
 "nbformat_minor": 2
}
