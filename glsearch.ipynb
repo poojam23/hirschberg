{
 "cells": [
  {
   "cell_type": "code",
   "execution_count": 1,
   "metadata": {
    "collapsed": true
   },
   "outputs": [],
   "source": [
    "import subprocess\n",
    "import sys\n",
    "import resource\n",
    "import time\n",
    "import random"
   ]
  },
  {
   "cell_type": "code",
   "execution_count": 2,
   "metadata": {
    "collapsed": true
   },
   "outputs": [],
   "source": [
    "rusage_denom = 1024.\n",
    "if sys.platform == \"darwin\":\n",
    "    rusage_denom = rusage_denom * rusage_denom"
   ]
  },
  {
   "cell_type": "code",
   "execution_count": 3,
   "metadata": {
    "collapsed": true
   },
   "outputs": [],
   "source": [
    "def runglsearch(executable, seq1_file, seq2_file):\n",
    "    '''\n",
    "    use POpen to run process in background, get its pid for checking for memory\n",
    "    poll frequently for memory usage --> can take its average for final result\n",
    "    get final output of process for \"Total scan time:\"\n",
    "    '''\n",
    "    command = executable + ' -z -1 -f 0 -g -1 -r +1/-1 ' + seq1_file + ' ' + seq2_file\n",
    "    args = command.split()\n",
    "    proc = subprocess.Popen(args, stdout=subprocess.PIPE, stderr=subprocess.STDOUT)\n",
    "    proc_pid = proc.pid\n",
    "    mem_max = 0.0\n",
    "    while proc.poll() == None:\n",
    "        mem_max = max(mem_max, (resource.getrusage(resource.RUSAGE_CHILDREN).ru_maxrss / rusage_denom))\n",
    "    return (mem_max, proc.communicate())"
   ]
  },
  {
   "cell_type": "code",
   "execution_count": 4,
   "metadata": {
    "collapsed": true
   },
   "outputs": [],
   "source": [
    "def glsearchCreateInputFilesAndRun(seq1, seq2):\n",
    "    glsearch_exec = \"/Users/pooja/Desktop/fasta-36.3.8g/bin/glsearch36\"\n",
    "    glsearch_file_seq1 = \"/Users/pooja/Desktop/fasta-36.3.8g/test/input_seq1\"\n",
    "    glsearch_file_seq2 = \"/Users/pooja/Desktop/fasta-36.3.8g/test/input_seq2\"\n",
    "    # create input file 1 for glsearch\n",
    "    with open(glsearch_file_seq1, \"w\") as in1:\n",
    "        in1.write(\">input_seq1\\n\")\n",
    "        in1.write(seq1)\n",
    "    # create input file 2 for glsearch\n",
    "    with open(glsearch_file_seq2, \"w\") as in2:\n",
    "        in2.write(\">input_seq2\\n\")\n",
    "        in2.write(seq2)\n",
    "    start_time = time.time()\n",
    "    print(start_time)\n",
    "    mem_max, output = runglsearch(glsearch_exec, glsearch_file_seq1, glsearch_file_seq2)\n",
    "    time_str = output[0][output[0].find(b'Total Scan time:'):]\n",
    "    print(\"for length: \" + str(len(seq1)))\n",
    "    print('maximum resident set size (MB): ' + str(mem_max))\n",
    "    print('time taken: ' + str(float(time_str.split()[3])))\n",
    "    time_taken = time.time() - start_time\n",
    "    print('time measured: ' + str(time_taken))"
   ]
  },
  {
   "cell_type": "code",
   "execution_count": 5,
   "metadata": {
    "collapsed": true
   },
   "outputs": [],
   "source": [
    "def shortenSequence(seq1, seq2, to_length):\n",
    "    if len(seq1) <= to_length or len(seq2) <= to_length:\n",
    "        return (seq1, seq2)\n",
    "    seq1_perm = list(seq1)\n",
    "    seq2_perm = list(seq2)\n",
    "    random.shuffle(seq1_perm)\n",
    "    random.shuffle(seq2_perm)\n",
    "    seq1_perm = ''.join(seq1_perm[:to_length])\n",
    "    seq2_perm = ''.join(seq2_perm[:to_length])\n",
    "    return (seq1_perm, seq2_perm)"
   ]
  },
  {
   "cell_type": "code",
   "execution_count": null,
   "metadata": {},
   "outputs": [
    {
     "name": "stdout",
     "output_type": "stream",
     "text": [
      "1544988963.229865\n",
      "for length: 100\n",
      "maximum resident set size (MB): 0.80078125\n",
      "time taken: 0.0\n",
      "time measured: 0.022172927856445312\n",
      "1544988963.254122\n",
      "for length: 500\n",
      "maximum resident set size (MB): 6.6953125\n",
      "time taken: 0.0\n",
      "time measured: 0.02872300148010254\n",
      "1544988963.284572\n",
      "for length: 1000\n",
      "maximum resident set size (MB): 9.609375\n",
      "time taken: 0.01\n",
      "time measured: 0.059906005859375\n",
      "1544988963.35548\n",
      "for length: 2000\n",
      "maximum resident set size (MB): 9.609375\n",
      "time taken: 0.01\n",
      "time measured: 0.15380406379699707\n",
      "1544988963.5197031\n",
      "for length: 3000\n",
      "maximum resident set size (MB): 13.76953125\n",
      "time taken: 0.02\n",
      "time measured: 0.2913646697998047\n",
      "1544988963.822397\n",
      "for length: 4000\n",
      "maximum resident set size (MB): 18.94140625\n",
      "time taken: 0.04\n",
      "time measured: 0.5469658374786377\n",
      "1544988964.3891919\n",
      "for length: 2000\n",
      "maximum resident set size (MB): 24.0703125\n",
      "time taken: 0.01\n",
      "time measured: 0.13268399238586426\n",
      "1544988964.541939\n",
      "for length: 3000\n",
      "maximum resident set size (MB): 24.0703125\n",
      "time taken: 0.02\n",
      "time measured: 0.3366079330444336\n",
      "1544988964.89972\n",
      "for length: 4000\n",
      "maximum resident set size (MB): 24.0703125\n",
      "time taken: 0.04\n",
      "time measured: 0.5484201908111572\n",
      "1544988965.4688609\n"
     ]
    }
   ],
   "source": [
    "with open(\"input_sequences.txt\", \"r\") as fp:\n",
    "    seq1 = \"\"\n",
    "    seq2 = \"\"\n",
    "    while True:\n",
    "        # expected file format: line1: seq1, line2: seq2, line3: blank, and this continues for as many pairs of\n",
    "        # sequences as need to be aligned\n",
    "        line = fp.readline()\n",
    "        if not line:\n",
    "            break\n",
    "        seq1 = line.strip()\n",
    "        seq2 = fp.readline().strip()\n",
    "        fp.readline()\n",
    "        if len(seq1) >= 2000:\n",
    "            for length in range(2000, len(seq1), 1000):\n",
    "                short_seq1, short_seq2 = shortenSequence(seq1, seq2, length)\n",
    "                glsearchCreateInputFilesAndRun(short_seq1, short_seq2)\n",
    "        else:\n",
    "            glsearchCreateInputFilesAndRun(seq1, seq2)"
   ]
  },
  {
   "cell_type": "markdown",
   "metadata": {
    "collapsed": true
   },
   "source": [
    "References:  \n",
    "- https://psutil.readthedocs.io/en/latest/#psutil.Process.memory_percent\n",
    "- http://www.people.virginia.edu/~wrp/fasta/CURRENT/\n",
    "- http://fa.bianp.net/blog/2013/different-ways-to-get-memory-consumption-or-lessons-learned-from-memory_profiler/\n",
    "- https://docs.python.org/2/library/subprocess.html#subprocess.Popen.returncode\n",
    "- https://docs.python.org/2/library/resource.html#resource.getrusage\n",
    "- https://eli.thegreenplace.net/2017/interacting-with-a-long-running-child-process-in-python/"
   ]
  }
 ],
 "metadata": {
  "kernelspec": {
   "display_name": "Python 3",
   "language": "python",
   "name": "python3"
  },
  "language_info": {
   "codemirror_mode": {
    "name": "ipython",
    "version": 3
   },
   "file_extension": ".py",
   "mimetype": "text/x-python",
   "name": "python",
   "nbconvert_exporter": "python",
   "pygments_lexer": "ipython3",
   "version": "3.6.1"
  }
 },
 "nbformat": 4,
 "nbformat_minor": 2
}
